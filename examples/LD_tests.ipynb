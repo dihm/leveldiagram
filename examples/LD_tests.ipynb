{
 "cells": [
  {
   "cell_type": "code",
   "execution_count": 1,
   "id": "e2b0dd56-fb51-4754-ae26-770446a42c22",
   "metadata": {},
   "outputs": [],
   "source": [
    "%matplotlib inline"
   ]
  },
  {
   "cell_type": "code",
   "execution_count": 2,
   "id": "2f094d69-9131-4260-a760-3174346863bf",
   "metadata": {},
   "outputs": [],
   "source": [
    "%load_ext autoreload\n",
    "%autoreload 2"
   ]
  },
  {
   "cell_type": "code",
   "execution_count": 3,
   "id": "4c1786e8-1213-485c-b1da-4d703d9f244f",
   "metadata": {},
   "outputs": [],
   "source": [
    "import matplotlib.pyplot as plt\n",
    "import numpy as np\n",
    "import networkx as nx"
   ]
  },
  {
   "cell_type": "code",
   "execution_count": 140,
   "id": "1d93cc26-5b88-49c0-9578-3ea436c974ad",
   "metadata": {},
   "outputs": [],
   "source": [
    "import leveldiagram as ld\n",
    "from leveldiagram.utils import deep_update\n",
    "from leveldiagram.artists import Coupling, WavyCoupling, EnergyLevel"
   ]
  },
  {
   "cell_type": "code",
   "execution_count": 26,
   "id": "eab8364e-6ccd-4d8a-b9f3-76816a00b83d",
   "metadata": {},
   "outputs": [],
   "source": [
    "DG = nx.DiGraph()\n",
    "G = nx.Graph()\n",
    "MDG = nx.MultiDiGraph()"
   ]
  },
  {
   "cell_type": "code",
   "execution_count": 12,
   "id": "c328cb03-d911-41f8-a821-86b21b7033b0",
   "metadata": {},
   "outputs": [],
   "source": [
    "lambda_nodes = ((0, {'energy':0, 'xpos':0, 'width':1}),\n",
    "                (1, {'energy':1, 'xpos':1}),\n",
    "                (2, {'energy':-0.1, 'xpos':2}))\n",
    "lambda_edges = ((0,1,{'rabi':0.1, 'detuning':0}),\n",
    "                (2,1,{'rabi':1, 'detuning':0}))"
   ]
  },
  {
   "cell_type": "code",
   "execution_count": 9,
   "id": "bcd31067-d7de-4406-b72a-4dc76f36f027",
   "metadata": {},
   "outputs": [],
   "source": [
    "G.add_nodes_from(lambda_nodes)\n",
    "G.add_edges_from(lambda_edges)"
   ]
  },
  {
   "cell_type": "code",
   "execution_count": 18,
   "id": "a0b9b5eb-9a32-42c9-896f-efab429c1d10",
   "metadata": {},
   "outputs": [
    {
     "data": {
      "text/plain": [
       "EdgeView([(0, 1), (1, 2)])"
      ]
     },
     "execution_count": 18,
     "metadata": {},
     "output_type": "execute_result"
    }
   ],
   "source": [
    "G.edges"
   ]
  },
  {
   "cell_type": "code",
   "execution_count": 27,
   "id": "f0e4f7de-b7a3-4c25-bec0-c7196f7c97fe",
   "metadata": {},
   "outputs": [],
   "source": [
    "DG.add_nodes_from(lambda_nodes)\n",
    "DG.add_edges_from(lambda_edges)"
   ]
  },
  {
   "cell_type": "code",
   "execution_count": 14,
   "id": "f3b3b7cb-94f0-4e83-9428-07ce0f14c86c",
   "metadata": {},
   "outputs": [
    {
     "data": {
      "text/plain": [
       "OutEdgeView([(0, 1), (2, 1)])"
      ]
     },
     "execution_count": 14,
     "metadata": {},
     "output_type": "execute_result"
    }
   ],
   "source": [
    "DG.edges"
   ]
  },
  {
   "cell_type": "code",
   "execution_count": 15,
   "id": "810f95f7-a60d-46e4-b878-7d6a8e025163",
   "metadata": {},
   "outputs": [
    {
     "data": {
      "text/plain": [
       "[0, 0]"
      ]
     },
     "execution_count": 15,
     "metadata": {},
     "output_type": "execute_result"
    }
   ],
   "source": [
    "MDG.add_nodes_from(lambda_nodes)\n",
    "MDG.add_edges_from(lambda_edges)"
   ]
  },
  {
   "cell_type": "code",
   "execution_count": 17,
   "id": "f8826948-a913-4fd7-a6e9-12b4c19b7f36",
   "metadata": {},
   "outputs": [
    {
     "data": {
      "text/plain": [
       "OutMultiEdgeView([(0, 1, 0), (2, 1, 0)])"
      ]
     },
     "execution_count": 17,
     "metadata": {},
     "output_type": "execute_result"
    }
   ],
   "source": [
    "MDG.edges"
   ]
  },
  {
   "cell_type": "code",
   "execution_count": 219,
   "id": "7fafedf3-9208-4968-b9a0-075356ab3e59",
   "metadata": {},
   "outputs": [],
   "source": [
    "class LD():\n",
    "    \"\"\"\n",
    "    Basic Level Diagram drawing class\n",
    "    \"\"\"\n",
    "    \n",
    "    # default options for artists\n",
    "    level_defaults = {'width': 1, 'color':'k',\n",
    "                      'text_kw':{'fontsize':'x-large'}}\n",
    "    \"EnergyLevel default parameters dictionary\"\n",
    "    \n",
    "    coupling_defaults = {'arrowsize': 0.1,\n",
    "                         'label_kw':{'fontsize':'large'}}\n",
    "    \"Coupling default parameters dictionary\"\n",
    "    \n",
    "    wavycoupling_defaults = {'waveamp': 0.1, 'halfperiod': 0.1}\n",
    "    \"WavyCoupling default parameters dictionary\"\n",
    "\n",
    "    \n",
    "    def __init__(self, graph, ax = None):\n",
    "        \"\"\"\n",
    "        Parameters\n",
    "        ----------\n",
    "        \n",
    "        graph: networkx.DiGraph or networkx.MultiDiGraph\n",
    "            Graph object that defines the system to diagram\n",
    "        ax: matplotlib.Axes, optional\n",
    "            Axes to add the diagram to. If None, creates a new figure and axes.\n",
    "            Default is None.\n",
    "        \"\"\"\n",
    "\n",
    "        if ax is None:\n",
    "            fig, ax = plt.subplots(1)\n",
    "            ax.set_aspect('equal')\n",
    "        self.fig = ax.get_figure()\n",
    "        self.ax = ax\n",
    "        \n",
    "        self.ax.set_axis_off()\n",
    "        \n",
    "        self._graph = graph\n",
    "        \n",
    "        # control parameters\n",
    "        default_label = 'left_text'\n",
    "        \"\"\"If note 'none', will use the node index inside a ket for the label.\n",
    "        Value of parameter sets which text label direction to use.\n",
    "        Valid options are 'left_text', 'right_text', 'top_text', 'bottom_text'.\n",
    "        \"\"\"\n",
    "        \n",
    "        # internal storage objects\n",
    "        self.levels = {}\n",
    "        self.couplings = {}\n",
    "        \n",
    "    def generate_levels(self):\n",
    "        \"\"\"\n",
    "        Creates the EnergyLevel artists from the graph nodes.\n",
    "        \n",
    "        They are saved to the `LD.levels` dictionary.\n",
    "        \"\"\"\n",
    "        \n",
    "        for n in self._graph.nodes:\n",
    "            node = self._graph.nodes[n].copy()\n",
    "            # if x,y coords not defined, set using node index\n",
    "            node.setdefault('energy', n)\n",
    "            node.setdefault('xpos', n)\n",
    "            \n",
    "            if self.default_label != 'none':\n",
    "                node.setdefault(self.default_label, ld.ket_str(n))\n",
    "            \n",
    "            # set default options\n",
    "            node = deep_update(self.level_defaults, node)\n",
    "            self.levels[n] = EnergyLevel(**node)\n",
    "            \n",
    "    def generate_couplings(self):\n",
    "        \"\"\"\n",
    "        Creates the Coupling and WavyCoupling artisits from the graph edges.\n",
    "        \n",
    "        They are saved to the `LD.couplings` dictionary.\n",
    "        \"\"\"\n",
    "        \n",
    "        for ed in self._graph.edges:\n",
    "            edge = self._graph.edges[ed].copy()\n",
    "            # set default options\n",
    "            edge = deep_update(self.coupling_defaults, edge)\n",
    "            # pop off non-arguments\n",
    "            det = edge.pop('detuning', 0)\n",
    "            anchor = edge.pop('anchor', 'center')\n",
    "            # set where couplings join the levels\n",
    "            start = self.levels[ed[0]].get_anchor(anchor)\n",
    "            stop = self.levels[ed[1]].get_anchor(anchor)\n",
    "            # adjust for detuning\n",
    "            stop[1] -= det\n",
    "            edge.setdefault('start', start)\n",
    "            edge.setdefault('stop', stop)\n",
    "            \n",
    "            if edge.pop('wavy', False):\n",
    "                edge.update(self.wavycoupling_defaults)\n",
    "                self.couplings[ed] = WavyCoupling(**edge)\n",
    "            else:\n",
    "                self.couplings[ed] = Coupling(**edge)\n",
    "                \n",
    "    def draw(self):\n",
    "        \"\"\"\n",
    "        Add artists to the figure.\n",
    "        \"\"\"\n",
    "        \n",
    "        self.generate_levels()\n",
    "        self.generate_couplings()\n",
    "        \n",
    "        for lev in self.levels.values():\n",
    "            self.ax.add_line(lev)\n",
    "            \n",
    "        for coupling in self.couplings.values():\n",
    "            self.ax.add_line(coupling)\n",
    "            \n",
    "        self.ax.autoscale_view()"
   ]
  },
  {
   "cell_type": "markdown",
   "id": "b0b73864-ffb5-44c0-b68d-8570a59d34d8",
   "metadata": {},
   "source": [
    "## Basic 3-level diagrams ##"
   ]
  },
  {
   "cell_type": "code",
   "execution_count": 190,
   "id": "8e9bbc30-9593-4c30-83c4-1c6fdb65f794",
   "metadata": {},
   "outputs": [],
   "source": [
    "lambda_nodes = ((0, {}),\n",
    "                (1, {}),\n",
    "                (2, {'energy':-0.1}))\n",
    "lambda_edges = ((0,1,{'detuning':0.1, 'label':'probe'}),\n",
    "                (2,1,{'label':'couple', 'lw':4, 'arrowsize':0.2}))\n",
    "lambda_graph = nx.DiGraph()\n",
    "lambda_graph.add_nodes_from(lambda_nodes)\n",
    "lambda_graph.add_edges_from(lambda_edges)"
   ]
  },
  {
   "cell_type": "code",
   "execution_count": 245,
   "id": "5668669b-cb99-4c6c-837a-deb86442940f",
   "metadata": {},
   "outputs": [
    {
     "data": {
      "image/png": "[encoded data removed]",
      "text/plain": [
       "<Figure size 640x480 with 1 Axes>"
      ]
     },
     "metadata": {},
     "output_type": "display_data"
    }
   ],
   "source": [
    "d = LD(lambda_graph)\n",
    "d.draw()"
   ]
  },
  {
   "cell_type": "code",
   "execution_count": 177,
   "id": "22a97fac-6c09-4b53-9cf5-27ed49f043fd",
   "metadata": {},
   "outputs": [],
   "source": [
    "ladder_nodes = (0,1,2)\n",
    "ladder_edges = ((0,1,{'label':'probe'}),\n",
    "                (1,2,{'label':'couple'}))\n",
    "ladder_graph = nx.DiGraph()\n",
    "ladder_graph.add_nodes_from(ladder_nodes)\n",
    "ladder_graph.add_edges_from(ladder_edges)"
   ]
  },
  {
   "cell_type": "code",
   "execution_count": 198,
   "id": "804f5a64-8414-41c2-aba0-2d38489f33a2",
   "metadata": {},
   "outputs": [
    {
     "data": {
      "image/png": "[encoded data removed]",
      "text/plain": [
       "<Figure size 640x480 with 1 Axes>"
      ]
     },
     "metadata": {},
     "output_type": "display_data"
    }
   ],
   "source": [
    "d = LD(ladder_graph)\n",
    "d.draw()"
   ]
  },
  {
   "cell_type": "code",
   "execution_count": 203,
   "id": "6a4738c8-6825-482c-bad5-1c898c7aee62",
   "metadata": {},
   "outputs": [],
   "source": [
    "v_nodes = ((0),\n",
    "           (1,{'energy':1,'xpos':-1}),\n",
    "           (2,{'energy':1, 'xpos':1}))\n",
    "v_edges = ((0,1,{'label':'probe'}),\n",
    "           (0,2,{'label':'couple'}))\n",
    "v_graph = nx.DiGraph()\n",
    "v_graph.add_nodes_from(v_nodes)\n",
    "v_graph.add_edges_from(v_edges)"
   ]
  },
  {
   "cell_type": "code",
   "execution_count": 204,
   "id": "ddd55027-5e7e-4646-8b98-be67613a80ae",
   "metadata": {},
   "outputs": [
    {
     "data": {
      "image/png": "[encoded data removed]",
      "text/plain": [
       "<Figure size 640x480 with 1 Axes>"
      ]
     },
     "metadata": {},
     "output_type": "display_data"
    }
   ],
   "source": [
    "d = LD(v_graph)\n",
    "d.draw()"
   ]
  },
  {
   "cell_type": "markdown",
   "id": "9c2555fc-d850-4075-8092-ac9542137b6c",
   "metadata": {},
   "source": [
    "## Hyperfine Diagram ##"
   ]
  },
  {
   "cell_type": "code",
   "execution_count": 253,
   "id": "ae793f6b-1888-46a7-99d7-75290c55c1b3",
   "metadata": {},
   "outputs": [],
   "source": [
    "hf_nodes =  [((f,i), {('top' if f==2 else 'bottom') + '_text':'$m_F='+f'{i:d}'+'$',\n",
    "                      'energy':f-1,\n",
    "                      'xpos':i,\n",
    "                      'width':0.75,\n",
    "                      'text_kw':{'fontsize':'large'}})\n",
    "             for f in [1,2]\n",
    "             for i in range(-f,f+1)]\n",
    "lin_couples = [((1,i),(2,i),{'label':l,'color':'C0'})\n",
    "               for i,l in zip(range(-1,2), ['1/2','2/3','1/2'])]\n",
    "sp_couples = [((1,i),(2,i+1),{'label':l,'color':'C1'})\n",
    "              for i,l in zip(range(-1,2), ['1/6','1/2','1'])]\n",
    "sm_couples = [((1,i),(2,i-1),{'label':l, 'color':'C2'})\n",
    "              for i,l in zip(range(-1,2), ['1','1/2','1/6'])]\n",
    "hf_edges = lin_couples + sp_couples + sm_couples\n",
    "hf_graph = nx.DiGraph()\n",
    "hf_graph.add_nodes_from(hf_nodes)\n",
    "hf_graph.add_edges_from(hf_edges)"
   ]
  },
  {
   "cell_type": "code",
   "execution_count": 254,
   "id": "7fbcdf96-59e4-4c60-95f9-2a73ea1fe48f",
   "metadata": {},
   "outputs": [
    {
     "data": {
      "image/png": "[encoded data removed]",
      "text/plain": [
       "<Figure size 640x480 with 1 Axes>"
      ]
     },
     "metadata": {},
     "output_type": "display_data"
    }
   ],
   "source": [
    "d = LD(hf_graph)\n",
    "d.default_label = 'none'\n",
    "d.ax.margins(y=0.2)\n",
    "d.draw()"
   ]
  },
  {
   "cell_type": "markdown",
   "id": "867590dd-549f-4bd9-ae29-0ef365b09f00",
   "metadata": {},
   "source": [
    "## 4-wave Mixing Diagram ##"
   ]
  },
  {
   "cell_type": "code",
   "execution_count": 221,
   "id": "6ada643b-d917-47a6-a897-4cc38044f97d",
   "metadata": {},
   "outputs": [],
   "source": [
    "fwm_nodes = ((0),\n",
    "             (1,{'xpos':-1}),\n",
    "             (2,{'xpos':1,'energy':1}),\n",
    "             (3,{'energy':2,'xpos':0}))\n",
    "fwm_edges = ((0,1),\n",
    "             (1,3),\n",
    "             (3,2),\n",
    "             (2,0,{'label':'idler', 'wavy':True}))\n",
    "fwm_graph = nx.DiGraph()\n",
    "fwm_graph.add_nodes_from(fwm_nodes)\n",
    "fwm_graph.add_edges_from(fwm_edges)"
   ]
  },
  {
   "cell_type": "code",
   "execution_count": 222,
   "id": "77eaccbd-2864-4e63-b8ac-b9ffe61cd8e2",
   "metadata": {},
   "outputs": [
    {
     "data": {
      "image/png": "[encoded data removed]",
      "text/plain": [
       "<Figure size 640x480 with 1 Axes>"
      ]
     },
     "metadata": {},
     "output_type": "display_data"
    }
   ],
   "source": [
    "d = LD(fwm_graph)\n",
    "d.draw()"
   ]
  },
  {
   "cell_type": "code",
   "execution_count": null,
   "id": "c4db99c1-5437-41d2-bae8-e6ff60232b30",
   "metadata": {},
   "outputs": [],
   "source": []
  }
 ],
 "metadata": {
  "kernelspec": {
   "display_name": "ARC",
   "language": "python",
   "name": "arc"
  },
  "language_info": {
   "codemirror_mode": {
    "name": "ipython",
    "version": 3
   },
   "file_extension": ".py",
   "mimetype": "text/x-python",
   "name": "python",
   "nbconvert_exporter": "python",
   "pygments_lexer": "ipython3",
   "version": "3.8.13"
  }
 },
 "nbformat": 4,
 "nbformat_minor": 5
}
